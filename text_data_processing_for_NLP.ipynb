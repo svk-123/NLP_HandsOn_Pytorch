{
 "cells": [
  {
   "cell_type": "markdown",
   "id": "31bdb1b0-3451-45fc-bc50-77d5a326e69b",
   "metadata": {},
   "source": [
    "#### Text Processing for Pre-trained/LLM Models\n",
    "#### Python\n",
    "#### Ref: https://www.kaggle.com/code/praveenkotha2/end-to-end-text-processing-for-beginners/notebook"
   ]
  },
  {
   "cell_type": "code",
   "execution_count": 6,
   "id": "373f8c10-317e-4fe4-99be-3ea69de568f2",
   "metadata": {},
   "outputs": [
    {
     "data": {
      "text/html": [
       "        <script type=\"text/javascript\">\n",
       "        window.PlotlyConfig = {MathJaxConfig: 'local'};\n",
       "        if (window.MathJax && window.MathJax.Hub && window.MathJax.Hub.Config) {window.MathJax.Hub.Config({SVG: {font: \"STIX-Web\"}});}\n",
       "        if (typeof require !== 'undefined') {\n",
       "        require.undef(\"plotly\");\n",
       "        requirejs.config({\n",
       "            paths: {\n",
       "                'plotly': ['https://cdn.plot.ly/plotly-2.35.2.min']\n",
       "            }\n",
       "        });\n",
       "        require(['plotly'], function(Plotly) {\n",
       "            window._Plotly = Plotly;\n",
       "        });\n",
       "        }\n",
       "        </script>\n",
       "        "
      ]
     },
     "metadata": {},
     "output_type": "display_data"
    }
   ],
   "source": [
    "import os\n",
    "import pickle\n",
    "import re\n",
    "import string\n",
    "from tqdm import tqdm\n",
    "from datetime import datetime\n",
    "import numpy as np\n",
    "import pandas as pd\n",
    "import matplotlib.pyplot as plt\n",
    "from scipy import sparse\n",
    "import word2vec\n",
    "import nltk\n",
    "from nltk.tokenize import word_tokenize\n",
    "from nltk.stem.snowball import SnowballStemmer\n",
    "from nltk.stem import WordNetLemmatizer \n",
    "from nltk.corpus import stopwords\n",
    "from textblob import TextBlob\n",
    "from wordcloud import WordCloud\n",
    "import plotly.offline as py\n",
    "import plotly.graph_objs as go\n",
    "from plotly.offline import init_notebook_mode, iplot\n",
    "import plotly.figure_factory as ff\n",
    "init_notebook_mode(connected=True)\n",
    "from sklearn.preprocessing import MinMaxScaler\n",
    "from sklearn.manifold import TSNE\n",
    "from sklearn.feature_extraction.text import CountVectorizer\n",
    "from sklearn.feature_extraction.text import TfidfVectorizer\n",
    "import warnings\n",
    "warnings.filterwarnings('ignore')\n"
   ]
  },
  {
   "cell_type": "code",
   "execution_count": 11,
   "id": "503d49c0-c357-4695-817f-033c2249350e",
   "metadata": {},
   "outputs": [
    {
     "name": "stdout",
     "output_type": "stream",
     "text": [
      "The shape of train data: (25000, 2)\n",
      "The shape of test data: (25000, 2)\n"
     ]
    }
   ],
   "source": [
    "# Reading the text data present in the directories. Each review is present as text file.\n",
    "if not (os.path.isfile('./dataset/aclImdb/train.csv' and \n",
    "                       './dataset/aclImdb/test.csv')):\n",
    "    path = './dataset/aclImdb/'\n",
    "    train_text = []\n",
    "    train_label = []\n",
    "    test_text = []\n",
    "    test_label = []\n",
    "    train_data_path_pos = os.path.join(path,'train/pos/')\n",
    "    train_data_path_neg = os.path.join(path,'train/neg/')\n",
    "\n",
    "    for data in ['train','test']:\n",
    "        for label in ['pos','neg']:\n",
    "            for file in sorted(os.listdir(os.path.join(path,data,label))):\n",
    "                if file.endswith('.txt'):\n",
    "                    with open(os.path.join(path,data,label,file)) as file_data:\n",
    "                        if data=='train':\n",
    "                            train_text.append(file_data.read())\n",
    "                            train_label.append( 1 if label== 'pos' else 0)\n",
    "                        else :\n",
    "                            test_text.append(file_data.read())\n",
    "                            test_label.append( 1 if label== 'pos' else 0)\n",
    "\n",
    "    train_df = pd.DataFrame({'Review': train_text, 'Label': train_label})\n",
    "    test_df = pd.DataFrame({'Review': test_text, 'Label': test_label})\n",
    "    train_df = train_df.sample(frac=1).reset_index(drop=True)\n",
    "    test_df = test_df.sample(frac=1).reset_index(drop=True)\n",
    "    \n",
    "    train_df.to_csv('./dataset/aclImdb/train.csv')\n",
    "    test_df.to_csv('./dataset/aclImdb/test.csv')\n",
    "    \n",
    "else:\n",
    "    train_df = pd.read_csv('./dataset/aclImdb/train.csv',index_col=0)\n",
    "    test_df = pd.read_csv('./dataset/aclImdb/test.csv',index_col=0)\n",
    "    \n",
    "print('The shape of train data:',train_df.shape)\n",
    "print('The shape of test data:', test_df.shape)"
   ]
  },
  {
   "cell_type": "code",
   "execution_count": 13,
   "id": "d2437e6f-22fc-488a-afd1-7886e991dc32",
   "metadata": {},
   "outputs": [
    {
     "data": {
      "text/html": [
       "<div>\n",
       "<style scoped>\n",
       "    .dataframe tbody tr th:only-of-type {\n",
       "        vertical-align: middle;\n",
       "    }\n",
       "\n",
       "    .dataframe tbody tr th {\n",
       "        vertical-align: top;\n",
       "    }\n",
       "\n",
       "    .dataframe thead th {\n",
       "        text-align: right;\n",
       "    }\n",
       "</style>\n",
       "<table border=\"1\" class=\"dataframe\">\n",
       "  <thead>\n",
       "    <tr style=\"text-align: right;\">\n",
       "      <th></th>\n",
       "      <th>Review</th>\n",
       "      <th>Label</th>\n",
       "    </tr>\n",
       "  </thead>\n",
       "  <tbody>\n",
       "    <tr>\n",
       "      <th>0</th>\n",
       "      <td>I stumbled across this (Act-I) by pure dumb lu...</td>\n",
       "      <td>1</td>\n",
       "    </tr>\n",
       "    <tr>\n",
       "      <th>1</th>\n",
       "      <td>Alone In The Dark is one BAD movie and tied wi...</td>\n",
       "      <td>0</td>\n",
       "    </tr>\n",
       "    <tr>\n",
       "      <th>2</th>\n",
       "      <td>Much in the same way Frank Miller and his Sin ...</td>\n",
       "      <td>1</td>\n",
       "    </tr>\n",
       "    <tr>\n",
       "      <th>3</th>\n",
       "      <td>\"Bullfighter\" was made in 2000 but it is being...</td>\n",
       "      <td>0</td>\n",
       "    </tr>\n",
       "    <tr>\n",
       "      <th>4</th>\n",
       "      <td>Weak Bobby \"Pineapple Salsa\" Flay and Mario Ba...</td>\n",
       "      <td>0</td>\n",
       "    </tr>\n",
       "  </tbody>\n",
       "</table>\n",
       "</div>"
      ],
      "text/plain": [
       "                                              Review  Label\n",
       "0  I stumbled across this (Act-I) by pure dumb lu...      1\n",
       "1  Alone In The Dark is one BAD movie and tied wi...      0\n",
       "2  Much in the same way Frank Miller and his Sin ...      1\n",
       "3  \"Bullfighter\" was made in 2000 but it is being...      0\n",
       "4  Weak Bobby \"Pineapple Salsa\" Flay and Mario Ba...      0"
      ]
     },
     "execution_count": 13,
     "metadata": {},
     "output_type": "execute_result"
    }
   ],
   "source": [
    "train_df.head(5)"
   ]
  },
  {
   "cell_type": "code",
   "execution_count": 14,
   "id": "70ff11ca-07d5-4cae-926c-f1fd78bad168",
   "metadata": {},
   "outputs": [
    {
     "name": "stdout",
     "output_type": "stream",
     "text": [
      "<class 'pandas.core.frame.DataFrame'>\n",
      "RangeIndex: 25000 entries, 0 to 24999\n",
      "Data columns (total 2 columns):\n",
      " #   Column  Non-Null Count  Dtype \n",
      "---  ------  --------------  ----- \n",
      " 0   Review  25000 non-null  object\n",
      " 1   Label   25000 non-null  int64 \n",
      "dtypes: int64(1), object(1)\n",
      "memory usage: 390.8+ KB\n"
     ]
    }
   ],
   "source": [
    "train_df.info()"
   ]
  },
  {
   "cell_type": "code",
   "execution_count": null,
   "id": "a081ba88-d928-409b-883b-9d07ad622db0",
   "metadata": {},
   "outputs": [],
   "source": []
  }
 ],
 "metadata": {
  "kernelspec": {
   "display_name": "Python 3 (ipykernel)",
   "language": "python",
   "name": "python3"
  },
  "language_info": {
   "codemirror_mode": {
    "name": "ipython",
    "version": 3
   },
   "file_extension": ".py",
   "mimetype": "text/x-python",
   "name": "python",
   "nbconvert_exporter": "python",
   "pygments_lexer": "ipython3",
   "version": "3.11.10"
  }
 },
 "nbformat": 4,
 "nbformat_minor": 5
}
